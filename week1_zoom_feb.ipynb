{
 "cells": [
  {
   "cell_type": "markdown",
   "metadata": {},
   "source": [
    "# In Class Activity\n",
    "Together we will write a program to distinguish which of a list of common flu virus strains were present in a given sample. In the 2010-2011 flu season three flu strains were present:\n",
    "- A/California/07/2009 \n",
    "- A/Perth/16/2009 \n",
    "- B/Brisbane/60/2008 \n",
    "\n",
    "The data you have recieved from the lab was the following sequence:\n",
    "ATACTATATATATCATAGATACATGACATACAGATACAGATCATAATCATGATACTA\n",
    "\n",
    "We know that it has: \n",
    "- 57 bases\n",
    "- 26 A's\n",
    "- 5 G's\n",
    "- 17 T's\n",
    "- 9 C's\n",
    "\n",
    "\n",
    "\n",
    "The three flu strains for that year were taken from the RefSeq database (https://www.ncbi.nlm.nih.gov/refseq/) \n",
    "- A/California/07/2009\n",
    "ATGAAGGCAATACTAGTAGTTCTGCTATATACATTTGCAACCGCAAATGCAGACACATT\n",
    "\n",
    "- A/Perth/16/2009 \n",
    "ATACTATATATATCATAGATACATGACATACAGATACAGATCATAATCATGATACTA\n",
    "\n",
    "- B/Brisbane/60/2008 \n",
    "AAAGCAGGGGATAATTCTATTAACCATGAAGACTATCATTGCTTTGAGCTACATTTA"
   ]
  },
  {
   "cell_type": "markdown",
   "metadata": {},
   "source": [
    "We want to do this following:\n",
    "\n",
    "- Use the code from the previous analysis above to write a program that\n",
    "     - Takes a list of input sequences\n",
    "     - Loops through each sequence and runs the analysis\n",
    "    \n",
    "\n"
   ]
  },
  {
   "cell_type": "code",
   "execution_count": null,
   "metadata": {},
   "outputs": [],
   "source": [
    "#tell python what are sequences are\n",
    "myseq=\"ATACTATATATATCATAGATACATGACATACAGATACAGATCATAATCATGATACTA\"\n",
    "cal=\"ATGAAGGCAATACTAGTAGTTCTGCTATATACATTTGCAACCGCAAATGCAGACACATT\"\n",
    "perth=\"ATACTATATATATCATAGATACATGACATACAGATACAGATCATAATCATGATACTA\"\n",
    "bris=\"AAAGCAGGGGATAATTCTATTAACCATGAAGACTATCATTGCTTTGAGCTACATTTA\""
   ]
  },
  {
   "cell_type": "code",
   "execution_count": null,
   "metadata": {},
   "outputs": [],
   "source": [
    "#Length and Number of bases\n",
    "#same code as previous exercise\n",
    "#get the length \n",
    "print(\"Length\",len(myseq))\n",
    "#how many A's\n",
    "#use count()\n",
    "print(\"A\",myseq.count(\"A\"))\n",
    "print(\"T\",myseq.count(\"T\"))\n",
    "print(\"C\",myseq.count(\"C\"))\n",
    "print(\"G\",myseq.count(\"G\"))\n"
   ]
  },
  {
   "cell_type": "code",
   "execution_count": null,
   "metadata": {},
   "outputs": [],
   "source": [
    "#It would be nice if we could write this once but use if for all the sequences!!!!!\n",
    "#we use lops to do this\n",
    "#example\n",
    "words=[\"apple\",\"orange\",\"pear\",\"strawberry\"]\n",
    "for i in words:\n",
    "    print(i)\n",
    "#this is helpful as it is efficient and saves time!\n",
    "    "
   ]
  },
  {
   "cell_type": "code",
   "execution_count": null,
   "metadata": {},
   "outputs": [],
   "source": [
    "#make a list of our variables\n",
    "#remember variable names do not need quotes!!\n",
    "flus=[]\n",
    "for i in flus:\n",
    "    #length\n",
    "    print()\n",
    "    #bases\n",
    "    print(\"A\",i.count(\"\"),\"T\",i.count(\"T\"),\"C\",i.count(\"\"),\"G\",i.count(\"G\"))\n",
    "\n",
    "    "
   ]
  },
  {
   "cell_type": "markdown",
   "metadata": {},
   "source": [
    "Which do you think matches the our test sequence?"
   ]
  }
 ],
 "metadata": {
  "kernelspec": {
   "display_name": "Python 3",
   "language": "python",
   "name": "python3"
  },
  "language_info": {
   "codemirror_mode": {
    "name": "ipython",
    "version": 3
   },
   "file_extension": ".py",
   "mimetype": "text/x-python",
   "name": "python",
   "nbconvert_exporter": "python",
   "pygments_lexer": "ipython3",
   "version": "3.7.8"
  }
 },
 "nbformat": 4,
 "nbformat_minor": 4
}
